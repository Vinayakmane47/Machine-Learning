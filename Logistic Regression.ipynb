{
 "cells": [
  {
   "cell_type": "markdown",
   "id": "560be9b1",
   "metadata": {},
   "source": [
    "## Importing Modules"
   ]
  },
  {
   "cell_type": "code",
   "execution_count": 1,
   "id": "998f43b9",
   "metadata": {},
   "outputs": [],
   "source": [
    "import pandas as pd \n",
    "import numpy as np \n",
    "from sklearn.preprocessing import StandardScaler \n",
    "from sklearn.linear_model  import Ridge,Lasso,RidgeCV, LassoCV, ElasticNet, ElasticNetCV, LogisticRegression\n",
    "from sklearn.model_selection import train_test_split\n",
    "from statsmodels.stats.outliers_influence import variance_inflation_factor \n",
    "from sklearn.metrics import accuracy_score, confusion_matrix, roc_curve, roc_auc_score\n",
    "import matplotlib.pyplot as plt\n",
    "from pandas_profiling import ProfileReport\n",
    "import seaborn as sns\n",
    "import pickle"
   ]
  },
  {
   "cell_type": "markdown",
   "id": "6167b9e1",
   "metadata": {},
   "source": [
    "## Preproccesing"
   ]
  },
  {
   "cell_type": "code",
   "execution_count": 3,
   "id": "84fd0ccd",
   "metadata": {},
   "outputs": [],
   "source": [
    "df = pd.read_csv(\"https://raw.githubusercontent.com/plotly/datasets/master/diabetes.csv\")\n"
   ]
  },
  {
   "cell_type": "markdown",
   "id": "bfe0d3b5",
   "metadata": {},
   "source": [
    "###### Replacing  Zero Values with mean : "
   ]
  },
  {
   "cell_type": "code",
   "execution_count": 4,
   "id": "d1a20b22",
   "metadata": {},
   "outputs": [],
   "source": [
    "df['BMI'] = df['BMI'].replace(0 , df['BMI'].mean())\n",
    "df['BloodPressure'] = df['BloodPressure'].replace(0,df['BloodPressure'].mean())\n",
    "df['Insulin'] = df['Insulin'].replace(0,df['Insulin'].mean())\n",
    "df['Glucose'] = df['Glucose'].replace(0,df['Glucose'].mean())\n",
    "df['SkinThickness'] = df['SkinThickness'].replace(0,df['SkinThickness'].mean())"
   ]
  },
  {
   "cell_type": "code",
   "execution_count": 12,
   "id": "4469c331",
   "metadata": {},
   "outputs": [
    {
     "data": {
      "text/html": [
       "<div>\n",
       "<style scoped>\n",
       "    .dataframe tbody tr th:only-of-type {\n",
       "        vertical-align: middle;\n",
       "    }\n",
       "\n",
       "    .dataframe tbody tr th {\n",
       "        vertical-align: top;\n",
       "    }\n",
       "\n",
       "    .dataframe thead th {\n",
       "        text-align: right;\n",
       "    }\n",
       "</style>\n",
       "<table border=\"1\" class=\"dataframe\">\n",
       "  <thead>\n",
       "    <tr style=\"text-align: right;\">\n",
       "      <th></th>\n",
       "      <th>Pregnancies</th>\n",
       "      <th>Glucose</th>\n",
       "      <th>BloodPressure</th>\n",
       "      <th>SkinThickness</th>\n",
       "      <th>Insulin</th>\n",
       "      <th>BMI</th>\n",
       "      <th>DiabetesPedigreeFunction</th>\n",
       "      <th>Age</th>\n",
       "    </tr>\n",
       "  </thead>\n",
       "  <tbody>\n",
       "    <tr>\n",
       "      <th>0</th>\n",
       "      <td>0.639947</td>\n",
       "      <td>0.865276</td>\n",
       "      <td>-0.021044</td>\n",
       "      <td>0.872057</td>\n",
       "      <td>-0.417768</td>\n",
       "      <td>0.167255</td>\n",
       "      <td>0.468492</td>\n",
       "      <td>1.425995</td>\n",
       "    </tr>\n",
       "    <tr>\n",
       "      <th>1</th>\n",
       "      <td>-0.844885</td>\n",
       "      <td>-1.205989</td>\n",
       "      <td>-0.516583</td>\n",
       "      <td>0.248678</td>\n",
       "      <td>-0.417768</td>\n",
       "      <td>-0.851535</td>\n",
       "      <td>-0.365061</td>\n",
       "      <td>-0.190672</td>\n",
       "    </tr>\n",
       "    <tr>\n",
       "      <th>2</th>\n",
       "      <td>1.233880</td>\n",
       "      <td>2.015979</td>\n",
       "      <td>-0.681762</td>\n",
       "      <td>-0.630654</td>\n",
       "      <td>-0.417768</td>\n",
       "      <td>-1.331821</td>\n",
       "      <td>0.604397</td>\n",
       "      <td>-0.105584</td>\n",
       "    </tr>\n",
       "    <tr>\n",
       "      <th>3</th>\n",
       "      <td>-0.844885</td>\n",
       "      <td>-1.074480</td>\n",
       "      <td>-0.516583</td>\n",
       "      <td>-0.374700</td>\n",
       "      <td>-0.265107</td>\n",
       "      <td>-0.633222</td>\n",
       "      <td>-0.920763</td>\n",
       "      <td>-1.041549</td>\n",
       "    </tr>\n",
       "    <tr>\n",
       "      <th>4</th>\n",
       "      <td>-1.141852</td>\n",
       "      <td>0.503626</td>\n",
       "      <td>-2.663916</td>\n",
       "      <td>0.872057</td>\n",
       "      <td>0.530423</td>\n",
       "      <td>1.549899</td>\n",
       "      <td>5.484909</td>\n",
       "      <td>-0.020496</td>\n",
       "    </tr>\n",
       "  </tbody>\n",
       "</table>\n",
       "</div>"
      ],
      "text/plain": [
       "   Pregnancies   Glucose  BloodPressure  SkinThickness   Insulin       BMI  \\\n",
       "0     0.639947  0.865276      -0.021044       0.872057 -0.417768  0.167255   \n",
       "1    -0.844885 -1.205989      -0.516583       0.248678 -0.417768 -0.851535   \n",
       "2     1.233880  2.015979      -0.681762      -0.630654 -0.417768 -1.331821   \n",
       "3    -0.844885 -1.074480      -0.516583      -0.374700 -0.265107 -0.633222   \n",
       "4    -1.141852  0.503626      -2.663916       0.872057  0.530423  1.549899   \n",
       "\n",
       "   DiabetesPedigreeFunction       Age  \n",
       "0                  0.468492  1.425995  \n",
       "1                 -0.365061 -0.190672  \n",
       "2                  0.604397 -0.105584  \n",
       "3                 -0.920763 -1.041549  \n",
       "4                  5.484909 -0.020496  "
      ]
     },
     "execution_count": 12,
     "metadata": {},
     "output_type": "execute_result"
    }
   ],
   "source": [
    "x = df.drop(columns=[\"Outcome\"])\n",
    "y = df[\"Outcome\"]\n",
    "scalar = StandardScaler()\n",
    "x = pd.DataFrame(scalar.fit_transform(x) , columns=x.columns) # Standard Scaling \n",
    "x.head()"
   ]
  },
  {
   "cell_type": "markdown",
   "id": "6baed3e7",
   "metadata": {},
   "source": [
    "## Training and Prediction "
   ]
  },
  {
   "cell_type": "markdown",
   "id": "71f9dec0",
   "metadata": {},
   "source": [
    "###### 1. Training"
   ]
  },
  {
   "cell_type": "code",
   "execution_count": 28,
   "id": "7c78dbff",
   "metadata": {
    "scrolled": true
   },
   "outputs": [
    {
     "name": "stdout",
     "output_type": "stream",
     "text": [
      "Logistic Regression  Accuracy :  0.75\n"
     ]
    }
   ],
   "source": [
    "x_train , x_test , y_train , y_test = train_test_split(x , y , test_size= 1/3 , random_state=42)\n",
    "logistic_lib = LogisticRegression(solver=\"liblinear\" , penalty = \"l2\" )\n",
    "logistic_lib.fit(x_train,y_train)\n",
    "print(\"Logistic Regression  Accuracy : \" , logistic_lib.score(x_test,y_test))"
   ]
  },
  {
   "cell_type": "markdown",
   "id": "92d92317",
   "metadata": {},
   "source": [
    "##### 2. Prediction : "
   ]
  },
  {
   "cell_type": "code",
   "execution_count": 58,
   "id": "be786ade",
   "metadata": {},
   "outputs": [
    {
     "name": "stdout",
     "output_type": "stream",
     "text": [
      "Probabilities : \n",
      "[[0.81465075 0.18534925]\n",
      " [0.88587653 0.11412347]]\n",
      "Prediction classes : \n",
      "[0 0]\n"
     ]
    }
   ],
   "source": [
    "y_pred = logistic_lib.predict(x_test)\n",
    "print(\"Probabilities : \")\n",
    "print( logistic_lib.predict_proba(x_test.iloc[1:3,:]) )\n",
    "print(\"Prediction classes : \")\n",
    "print( logistic_lib.predict(x_test.iloc[1:3,:]))"
   ]
  },
  {
   "cell_type": "markdown",
   "id": "5ba99b80",
   "metadata": {},
   "source": [
    "##### 3. Scores "
   ]
  },
  {
   "cell_type": "code",
   "execution_count": 84,
   "id": "2e2dc7f1",
   "metadata": {},
   "outputs": [
    {
     "name": "stdout",
     "output_type": "stream",
     "text": [
      "accuracy score :  0.75\n",
      "roc_auc_score :  0.711217510259918\n",
      "Confusion Matrix : \n",
      "[[141  29]\n",
      " [ 35  51]]\n"
     ]
    }
   ],
   "source": [
    "print(\"accuracy score : \" , accuracy_score(y_test ,y_pred ))\n",
    "print(\"roc_auc_score : \" , roc_auc_score(y_test , y_pred))\n",
    "print(\"Confusion Matrix : \")\n",
    "print(confusion_matrix(y_test , y_pred))\n",
    "auc = roc_auc_score(y_test , y_pred)\n",
    "fpr , tpr , threshold = roc_curve(y_test , y_pred )"
   ]
  },
  {
   "cell_type": "code",
   "execution_count": 88,
   "id": "c994f94b",
   "metadata": {},
   "outputs": [
    {
     "data": {
      "image/png": "[encoded data removed]",
      "text/plain": [
       "<Figure size 432x288 with 1 Axes>"
      ]
     },
     "metadata": {
      "needs_background": "light"
     },
     "output_type": "display_data"
    }
   ],
   "source": [
    "plt.plot(fpr, tpr, color='orange', label='ROC')\n",
    "plt.plot([0, 1], [0, 1], color='darkblue', linestyle='--',label=f\"Roc Curve (area = {round(auc , 2)})\")\n",
    "plt.xlabel('False Positive Rate')\n",
    "plt.ylabel('True Positive Rate')\n",
    "plt.title('Receiver Operating Characteristic (ROC) Curve')\n",
    "plt.legend()\n",
    "plt.show()"
   ]
  }
 ],
 "metadata": {
  "kernelspec": {
   "display_name": "Python 3 (ipykernel)",
   "language": "python",
   "name": "python3"
  },
  "language_info": {
   "codemirror_mode": {
    "name": "ipython",
    "version": 3
   },
   "file_extension": ".py",
   "mimetype": "text/x-python",
   "name": "python",
   "nbconvert_exporter": "python",
   "pygments_lexer": "ipython3",
   "version": "3.9.12"
  }
 },
 "nbformat": 4,
 "nbformat_minor": 5
}
